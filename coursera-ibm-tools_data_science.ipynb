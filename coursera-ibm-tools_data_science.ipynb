{
  "metadata": {
    "language_info": {
      "codemirror_mode": {
        "name": "python",
        "version": 3
      },
      "file_extension": ".py",
      "mimetype": "text/x-python",
      "name": "python",
      "nbconvert_exporter": "python",
      "pygments_lexer": "ipython3",
      "version": "3.8"
    },
    "kernelspec": {
      "name": "python",
      "display_name": "Python (Pyodide)",
      "language": "python"
    }
  },
  "nbformat_minor": 4,
  "nbformat": 4,
  "cells": [
    {
      "cell_type": "markdown",
      "source": "# Jupyterlite Notebook",
      "metadata": {}
    },
    {
      "cell_type": "markdown",
      "source": "## 1. Introduction",
      "metadata": {}
    },
    {
      "cell_type": "markdown",
      "source": "### Data science languages\n\n- Python\n- R\n- Julia",
      "metadata": {}
    },
    {
      "cell_type": "markdown",
      "source": "### Data science libraries\n\n- TensorFlow\n- NumPy\n- SciPy \n- Pandas\n- Matplotlib \n- Keras\n- SciKit-Learn\n- PyTorch\n- Theano\n- Caffe2",
      "metadata": {}
    },
    {
      "cell_type": "markdown",
      "source": "| Data Science Tools | \n| --- | \n| SAS | \n| Apache Spark | \n| BigML | \n| MATLAB | \n| Tableau | \n| Jupyter | \n| Weka | \n| Apache Zeppelin | \n| Spider | \n| Anaconda |  ",
      "metadata": {}
    },
    {
      "cell_type": "markdown",
      "source": "Arithmetic expression examples:\n\n$$\n  \\int_0^\\infty \\frac{x^3}{e^x-1}\\,dx = \\frac{\\pi^4}{15}\n$$",
      "metadata": {}
    },
    {
      "cell_type": "code",
      "source": "def add_numbers(a,b):\n    return a + b\n\ndef multiply_numbers(a,b):\n    return a * b\n\na = 1\nb = 2\n\nc = add_numbers(a,b)\nd = multiply_numbers(a,b)\n\nc,d",
      "metadata": {
        "trusted": true
      },
      "execution_count": 3,
      "outputs": [
        {
          "execution_count": 3,
          "output_type": "execute_result",
          "data": {
            "text/plain": "(3, 2)"
          },
          "metadata": {}
        }
      ]
    },
    {
      "cell_type": "code",
      "source": "def min_to_hour(time):\n    return time / 60\n\nt = 180\n\nmin_to_hour(t)",
      "metadata": {
        "trusted": true
      },
      "execution_count": 4,
      "outputs": [
        {
          "execution_count": 4,
          "output_type": "execute_result",
          "data": {
            "text/plain": "3.0"
          },
          "metadata": {}
        }
      ]
    },
    {
      "cell_type": "markdown",
      "source": "### Objectives\n\n- ...\n- ...\n- ...",
      "metadata": {}
    },
    {
      "cell_type": "markdown",
      "source": "**Author:** Elias Lawrence",
      "metadata": {}
    }
  ]
}
